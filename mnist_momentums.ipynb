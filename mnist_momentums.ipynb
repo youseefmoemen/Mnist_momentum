{
  "cells": [
    {
      "cell_type": "code",
      "execution_count": 1,
      "metadata": {
        "id": "iko5w5wkVJoJ"
      },
      "outputs": [],
      "source": [
        "from sklearn.datasets import fetch_openml\n",
        "import numpy as np\n",
        "import math"
      ]
    },
    {
      "cell_type": "code",
      "execution_count": 2,
      "metadata": {
        "id": "OGjkWYleVZwN"
      },
      "outputs": [],
      "source": [
        "mnist = fetch_openml('mnist_784', version = 1)"
      ]
    },
    {
      "cell_type": "code",
      "execution_count": 3,
      "metadata": {
        "id": "4Jyqg13MVegI"
      },
      "outputs": [],
      "source": [
        "from sklearn.model_selection import StratifiedShuffleSplit"
      ]
    },
    {
      "cell_type": "code",
      "execution_count": 4,
      "metadata": {
        "id": "6gfz8sHTVjUM"
      },
      "outputs": [],
      "source": [
        "sss = StratifiedShuffleSplit(n_splits = 1, train_size=10000, test_size=1000)"
      ]
    },
    {
      "cell_type": "code",
      "execution_count": 5,
      "metadata": {
        "id": "-Qo9ezTwW7J9"
      },
      "outputs": [],
      "source": [
        "for train_index, test_index in sss.split(mnist.data, mnist.target):\n",
        "  X_train = mnist.data.iloc[train_index] \n",
        "  y_train = mnist.target[train_index]\n",
        "  X_test = mnist.data.iloc[test_index] \n",
        "  y_test = mnist.target[test_index]"
      ]
    },
    {
      "cell_type": "code",
      "execution_count": 6,
      "metadata": {
        "colab": {
          "base_uri": "https://localhost:8080/"
        },
        "id": "A8KwGSfkYRB0",
        "outputId": "159db900-124d-4617-9b6d-5991c5ebc28a"
      },
      "outputs": [
        {
          "name": "stdout",
          "output_type": "stream",
          "text": [
            "(10000, 784) (1000,)\n"
          ]
        }
      ],
      "source": [
        "print(X_train.shape, y_test.shape)"
      ]
    },
    {
      "cell_type": "code",
      "execution_count": 7,
      "metadata": {
        "id": "6aRF1rpPgxi6"
      },
      "outputs": [],
      "source": [
        "import matplotlib.pyplot as plt"
      ]
    },
    {
      "cell_type": "code",
      "execution_count": 8,
      "metadata": {
        "id": "J78MSQ9XelJo"
      },
      "outputs": [],
      "source": [
        "def clip_image(img, clipping_size = 0):\n",
        "  img = img.reshape((28, 28))\n",
        "  img = np.delete(img, range(clipping_size), 0)\n",
        "  img = np.delete(img, range(clipping_size), 1)\n",
        "  return img.flatten()"
      ]
    },
    {
      "cell_type": "code",
      "execution_count": 9,
      "metadata": {
        "id": "B0-ZwhcjxaeV"
      },
      "outputs": [],
      "source": [
        "def momentum(img, step_size, n_steps, clipping_size):\n",
        "  img = img.reshape((28 - clipping_size, 28-clipping_size))\n",
        "  momentums = []\n",
        "  for i in range(n_steps):\n",
        "    x = np.array(list(range(i*step_size, (i+1)*step_size)))\n",
        "    for j in range(n_steps):\n",
        "      pixels = img[j*step_size: (j+1)*step_size, i*step_size: (i+1) * step_size]\n",
        "      y =  np.array(list(range(j*step_size, (j+1)*step_size))).reshape(step_size,1)\n",
        "      area = np.sum(np.sum(pixels))\n",
        "      x_c = np.sum(np.sum(x.T * pixels)) / (area + 1e-10)\n",
        "      y_c = np.sum(np.sum(y * pixels)) / (area + 1e-10)\n",
        "      momentums.append((x_c, y_c))\n",
        "  return momentums"
      ]
    },
    {
      "cell_type": "code",
      "execution_count": 10,
      "metadata": {
        "id": "K3IodQOKYzUc"
      },
      "outputs": [],
      "source": [
        "def reduction(data = None, n_momentums = 9):\n",
        "  n_steps = math.floor(np.sqrt(n_momentums))\n",
        "  clipping_size = 28 % n_steps\n",
        "  step_size = (28 - clipping_size) // n_steps\n",
        "  data = np.apply_along_axis(clipping_size = clipping_size\n",
        "                      , func1d = clip_image, axis = 1, arr = data)\n",
        "  momentums = np.apply_along_axis(step_size = step_size, n_steps = n_steps,\n",
        "                                  clipping_size= clipping_size,\n",
        "                                  func1d = momentum, axis = 1, arr = data)\n",
        "  return data, momentums"
      ]
    },
    {
      "cell_type": "code",
      "execution_count": 11,
      "metadata": {
        "id": "6M4IUjyD4Bgb"
      },
      "outputs": [],
      "source": [
        "data, momentums = reduction(np.array(X_train.copy()), n_momentums = 9)"
      ]
    },
    {
      "cell_type": "code",
      "execution_count": 12,
      "metadata": {
        "colab": {
          "base_uri": "https://localhost:8080/",
          "height": 264
        },
        "id": "CIOxTVOEw6Pt",
        "outputId": "de44499a-a288-4538-809c-ad221dd139b2"
      },
      "outputs": [
        {
          "data": {
            "image/png": "[encoded data removed]",
            "text/plain": [
              "<Figure size 432x288 with 1 Axes>"
            ]
          },
          "metadata": {
            "needs_background": "light"
          },
          "output_type": "display_data"
        }
      ],
      "source": [
        "img_num = 4569\n",
        "plt.imshow(np.array(data[img_num]).reshape((27, 27)), cmap='gray'\n",
        "            , vmin = 0, vmax = 255)\n",
        "plt.scatter(momentums[img_num, :, 0], momentums[img_num, :, 1], color = 'red')\n",
        "eq = list(range(0, 27, 9))\n",
        "for i in eq:\n",
        "  plt.axvline(x=i, color ='green')\n",
        "  plt.axhline(y=i, color = 'green')\n",
        "plt.axis('off')\n",
        "plt.title('9 momentums')\n",
        "plt.show()\n",
        "plt.savefig('196m.png', bbox_inches='tight')"
      ]
    },
    {
      "cell_type": "code",
      "execution_count": 13,
      "metadata": {
        "id": "HqF71YDaQncD"
      },
      "outputs": [],
      "source": [
        "from scipy import stats\n",
        "from sklearn.base import ClassifierMixin"
      ]
    },
    {
      "cell_type": "code",
      "execution_count": 14,
      "metadata": {
        "id": "1e0ruZ_6hvTT"
      },
      "outputs": [],
      "source": [
        "class KNearstNeighbors(ClassifierMixin):\n",
        "  def __init__(self, k = 8):\n",
        "    self.k = k\n",
        "  def fit(self, X, y):\n",
        "    self.X = X\n",
        "    self.y = y\n",
        "  def predict_(self, X):\n",
        "    distances = np.sum((self.X - X) ** 2, axis = 1)\n",
        "    sorted_distances = np.argsort(distances)\n",
        "    return stats.mode(self.y.iloc[sorted_distances[:self.k]]).mode[0]\n",
        "  def predict(self, X):\n",
        "    if(len(X.shape) == 2):\n",
        "      return np.apply_along_axis(self.predict_, axis = 1, arr = X)\n",
        "    else:\n",
        "      return self.predict_(X)"
      ]
    },
    {
      "cell_type": "code",
      "execution_count": 15,
      "metadata": {
        "id": "9gcOlKBWvycv"
      },
      "outputs": [],
      "source": [
        "knn = KNearstNeighbors()"
      ]
    },
    {
      "cell_type": "code",
      "execution_count": 16,
      "metadata": {
        "id": "w8YiigZoPDiy"
      },
      "outputs": [],
      "source": [
        "X_train_m = reduction(np.array(X_train.copy()), n_momentums = 9)[1].reshape(10000, 18)\n",
        "X_test_m = reduction(np.array(X_test.copy()), n_momentums = 9)[1].reshape(1000, 18)"
      ]
    },
    {
      "cell_type": "code",
      "execution_count": 17,
      "metadata": {
        "id": "-abwrMNrv7o0"
      },
      "outputs": [],
      "source": [
        "knn.fit(X_train_m, y_train)"
      ]
    },
    {
      "cell_type": "code",
      "execution_count": 18,
      "metadata": {
        "colab": {
          "base_uri": "https://localhost:8080/"
        },
        "id": "Li-Tc8XU1DDV",
        "outputId": "593b7ded-514e-4414-ace8-c34237f75d0e"
      },
      "outputs": [
        {
          "name": "stdout",
          "output_type": "stream",
          "text": [
            "0.8769\n"
          ]
        }
      ],
      "source": [
        "print(knn.score(X_train_m, y_train))"
      ]
    },
    {
      "cell_type": "code",
      "execution_count": 19,
      "metadata": {
        "colab": {
          "base_uri": "https://localhost:8080/"
        },
        "id": "t5_zxcP3N1ov",
        "outputId": "68d313ae-a41c-44e4-cd74-f2b712c71d2f"
      },
      "outputs": [
        {
          "name": "stdout",
          "output_type": "stream",
          "text": [
            "0.864\n"
          ]
        }
      ],
      "source": [
        "print(knn.score(X_test_m, y_test))"
      ]
    },
    {
      "cell_type": "code",
      "execution_count": 20,
      "metadata": {
        "id": "wSAyCJj-mr6w"
      },
      "outputs": [],
      "source": [
        "best_scores = [0]\n",
        "x = [i * i for i in range(29)]"
      ]
    },
    {
      "cell_type": "code",
      "execution_count": null,
      "metadata": {
        "id": "M_i83h73dz-w"
      },
      "outputs": [],
      "source": [
        "for i in range(1, 29):\n",
        "  n_mom = i * i\n",
        "  X_train_m = reduction(X_train.copy(), n_mom)[1]\n",
        "  knn = KNearstNeighbors(k=8)\n",
        "  knn.fit(X_train_m.reshape((10000, n_mom * 2)), y_train)\n",
        "  X_test_m = reduction(X_test.copy(), n_mom)[1]\n",
        "  best_scores.append(knn.score(X_test_m.reshape((1000, n_mom * 2)), y_test))"
      ]
    },
    {
      "cell_type": "code",
      "execution_count": null,
      "metadata": {
        "colab": {
          "base_uri": "https://localhost:8080/",
          "height": 328
        },
        "id": "TEqmOzlphZ2Q",
        "outputId": "f020356e-844a-492f-e401-c1b6fcfb4ac8"
      },
      "outputs": [
        {
          "data": {
            "image/png": "[encoded data removed]",
            "text/plain": [
              "<Figure size 1440x432 with 1 Axes>"
            ]
          },
          "metadata": {},
          "output_type": "display_data"
        }
      ],
      "source": [
        "plt.figure(figsize = (20, 6))\n",
        "plt.plot(x[1:], best_scores[1:])\n",
        "plt.scatter(x[1:], best_scores[1:])\n",
        "plt.title('Accuracy with K = 8 for different momentums')\n",
        "plt.xlabel('number of momentums')\n",
        "plt.ylabel('mean accuracy')\n",
        "plt.savefig('acc3.png', bbox_inches='tight')\n",
        "plt.show()"
      ]
    }
  ],
  "metadata": {
    "colab": {
      "collapsed_sections": [],
      "name": "sup#0.ipynb",
      "provenance": []
    },
    "kernelspec": {
      "display_name": "Python 3",
      "name": "python3"
    },
    "language_info": {
      "name": "python"
    }
  },
  "nbformat": 4,
  "nbformat_minor": 0
}
